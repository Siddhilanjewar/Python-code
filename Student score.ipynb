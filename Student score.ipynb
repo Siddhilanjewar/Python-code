{
 "cells": [
  {
   "cell_type": "code",
   "execution_count": 1,
   "id": "d6eeedd0",
   "metadata": {},
   "outputs": [
    {
     "name": "stdout",
     "output_type": "stream",
     "text": [
      "   Student  Score\n",
      "0   Sushil     43\n",
      "1   Aastha     67\n",
      "2     Puja     50\n",
      "3     Tina     45\n",
      "4     Aman     98\n",
      "5      Ram     71\n",
      "6     Savi     80\n",
      "7   Sonali     69\n",
      "8  Shushma     35\n",
      "9      Dev     88\n",
      "Average score:  64.6\n",
      "Highest score:  98\n",
      "Lowest score:  35\n",
      "Number of students who passed:  7\n"
     ]
    }
   ],
   "source": [
    "import pandas as pd \n",
    "df = pd.read_csv(r'C:\\Users\\91937\\OneDrive\\Documents\\Student marks.csv') \n",
    "print(df[['Student', 'Score']]) \n",
    "average_score = df[\"Score\"].mean() \n",
    "highest_score = df[\"Score\"].max() \n",
    "lowest_score = df[\"Score\"].min() \n",
    "passed_students_count = df[df[\"Score\"] >= 50].shape[0] \n",
    "print(\"Average score: \",average_score) \n",
    "print(\"Highest score: \",highest_score) \n",
    "print(\"Lowest score: \",lowest_score) \n",
    "print(\"Number of students who passed: \",passed_students_count)"
   ]
  },
  {
   "cell_type": "code",
   "execution_count": null,
   "id": "19f75a15",
   "metadata": {},
   "outputs": [],
   "source": []
  }
 ],
 "metadata": {
  "kernelspec": {
   "display_name": "Python 3 (ipykernel)",
   "language": "python",
   "name": "python3"
  },
  "language_info": {
   "codemirror_mode": {
    "name": "ipython",
    "version": 3
   },
   "file_extension": ".py",
   "mimetype": "text/x-python",
   "name": "python",
   "nbconvert_exporter": "python",
   "pygments_lexer": "ipython3",
   "version": "3.11.4"
  }
 },
 "nbformat": 4,
 "nbformat_minor": 5
}
