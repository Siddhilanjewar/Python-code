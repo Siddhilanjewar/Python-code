{
 "cells": [
  {
   "cell_type": "code",
   "execution_count": null,
   "id": "a53cae88",
   "metadata": {},
   "outputs": [
    {
     "name": "stdout",
     "output_type": "stream",
     "text": [
      "Enter your choice (rock, paper, or scissors)rock\n",
      "Computer chose: paper\n",
      "Computer wins!\n",
      "Do you wnat to play again? (yes/no): yes\n",
      "Enter your choice (rock, paper, or scissors)scissors\n",
      "Computer chose: paper\n",
      "You win!\n"
     ]
    }
   ],
   "source": [
    "import random \n",
    "choices=['rock', 'paper', 'scissors'] \n",
    "while True: \n",
    "    player= input(\"Enter your choice (rock, paper, or scissors)\") \n",
    "    computer= random.choice(choices) \n",
    "    print(\"Computer chose:\", computer) \n",
    "    if player == computer: \n",
    "        print(\"It's a tie!\") \n",
    "    elif player == \"rock\" and computer == \"scissors\": \n",
    "        print(\"You win!\") \n",
    "    elif player == \"paper\" and computer == \"rock\": \n",
    "        print(\"You win!\")  \n",
    "    elif player == \"scissors\" and computer == \"paper\": \n",
    "        print(\"You win!\")   \n",
    "    else: \n",
    "        print(\"Computer wins!\") \n",
    "    play_again= input(\"Do you wnat to play again? (yes/no): \").lower() \n",
    "    if play_again != 'yes': \n",
    "        print(\"Thanks for playing!\")   \n",
    "        break"
   ]
  },
  {
   "cell_type": "code",
   "execution_count": null,
   "id": "a57b4616",
   "metadata": {},
   "outputs": [],
   "source": []
  }
 ],
 "metadata": {
  "kernelspec": {
   "display_name": "Python 3 (ipykernel)",
   "language": "python",
   "name": "python3"
  },
  "language_info": {
   "codemirror_mode": {
    "name": "ipython",
    "version": 3
   },
   "file_extension": ".py",
   "mimetype": "text/x-python",
   "name": "python",
   "nbconvert_exporter": "python",
   "pygments_lexer": "ipython3",
   "version": "3.11.4"
  }
 },
 "nbformat": 4,
 "nbformat_minor": 5
}
