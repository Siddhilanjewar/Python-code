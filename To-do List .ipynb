{
 "cells": [
  {
   "cell_type": "code",
   "execution_count": 5,
   "id": "5b556671",
   "metadata": {},
   "outputs": [
    {
     "name": "stdout",
     "output_type": "stream",
     "text": [
      "----Welcome to the To-Do List application----\n",
      "Enter how many tasks you want to add: 4\n",
      "Enter task 1: pay bills\n",
      "Enter task 2: coding\n",
      "Enter task 3: sumbit report\n",
      "Enter task 4: reading\n",
      "Today's tasks are: ['pay bills', 'coding', 'sumbit report', 'reading']\n",
      "Enter 1-Add\n",
      "2-Delete\n",
      "3-View\n",
      "4-Exit\n",
      "Choose an option: 1\n",
      "Enter the task you want to add: send emails\n",
      "Task 'send emails' added successfully.\n",
      "Enter 1-Add\n",
      "2-Delete\n",
      "3-View\n",
      "4-Exit\n",
      "Choose an option: 2\n",
      "Which task do you want to delete? Enter the task name: reading\n",
      "Task 'reading' deleted successfully.\n",
      "Enter 1-Add\n",
      "2-Delete\n",
      "3-View\n",
      "4-Exit\n",
      "Choose an option: 3\n",
      "Total tasks are: ['pay bills', 'coding', 'sumbit report', 'send emails']\n",
      "Enter 1-Add\n",
      "2-Delete\n",
      "3-View\n",
      "4-Exit\n",
      "Choose an option: 4\n",
      "----Exiting the To-Do List application----\n"
     ]
    }
   ],
   "source": [
    "def task(): \n",
    "    tasks = [] \n",
    "    print(\"----Welcome to the To-Do List application----\") \n",
    "    \n",
    "    total_task = int(input(\"Enter how many tasks you want to add: \")) \n",
    "    for i in range(1, total_task + 1): \n",
    "        task_name = input(f\"Enter task {i}: \") \n",
    "        tasks.append(task_name) \n",
    "        \n",
    "    print(\"Today's tasks are:\", tasks) \n",
    "\n",
    "    while True: \n",
    "        operation = int(input(\"Enter 1-Add\\n2-Delete\\n3-View\\n4-Exit\\nChoose an option: \"))   \n",
    "\n",
    "        if operation == 1: \n",
    "            add = input(\"Enter the task you want to add: \") \n",
    "            tasks.append(add) \n",
    "            print(f\"Task '{add}' added successfully.\")             \n",
    "\n",
    "        elif operation == 2: \n",
    "            del_val = input(\"Which task do you want to delete? Enter the task name: \") \n",
    "            if del_val in tasks: \n",
    "                tasks.remove(del_val) \n",
    "                print(f\"Task '{del_val}' deleted successfully.\") \n",
    "            else: \n",
    "                print(\"Task not found.\")       \n",
    "\n",
    "        elif operation == 3: \n",
    "            if tasks: \n",
    "                print(\"Total tasks are:\", tasks) \n",
    "            else: \n",
    "                print(\"No tasks available.\") \n",
    "\n",
    "        elif operation == 4:    \n",
    "            print(\"----Exiting the To-Do List application----\") \n",
    "            break \n",
    "\n",
    "        else: \n",
    "            print(\"Invalid Input. Please enter a valid option.\") \n",
    "task()"
   ]
  },
  {
   "cell_type": "code",
   "execution_count": null,
   "id": "8ddea700",
   "metadata": {},
   "outputs": [],
   "source": []
  }
 ],
 "metadata": {
  "kernelspec": {
   "display_name": "Python 3 (ipykernel)",
   "language": "python",
   "name": "python3"
  },
  "language_info": {
   "codemirror_mode": {
    "name": "ipython",
    "version": 3
   },
   "file_extension": ".py",
   "mimetype": "text/x-python",
   "name": "python",
   "nbconvert_exporter": "python",
   "pygments_lexer": "ipython3",
   "version": "3.11.4"
  }
 },
 "nbformat": 4,
 "nbformat_minor": 5
}
