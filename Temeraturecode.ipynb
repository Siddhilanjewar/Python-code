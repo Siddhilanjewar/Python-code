{
 "cells": [
  {
   "cell_type": "code",
   "execution_count": 2,
   "id": "d5eb98a9",
   "metadata": {},
   "outputs": [
    {
     "name": "stdout",
     "output_type": "stream",
     "text": [
      "Enter the temperature: 45\n",
      "Enter the unit(C for Celsius , F for Fahrenheit): f\n",
      "45.0°F is 7.22°C\n"
     ]
    }
   ],
   "source": [
    "temp=float(input(\"Enter the temperature: \"))\n",
    "unit= input(\"Enter the unit(C for Celsius , F for Fahrenheit): \").upper()\n",
    "\n",
    "if unit == \"C\":\n",
    "    converted_temp=(temp * 9/5) + 32\n",
    "    print(f\"{temp}°C is {converted_temp:.2f}°F\")\n",
    "    \n",
    "elif unit == \"F\":\n",
    "    converted_temp=(temp - 32) * 5/9\n",
    "    print(f\"{temp}°F is {converted_temp:.2f}°C\")\n",
    "    \n",
    "else:\n",
    "    print(\"Invalid unit. Please enter 'C' for Celsius or 'F' for Fahrenheit.\")\n",
    " \n",
    "    "
   ]
  },
  {
   "cell_type": "code",
   "execution_count": null,
   "id": "18265db1",
   "metadata": {},
   "outputs": [],
   "source": []
  }
 ],
 "metadata": {
  "kernelspec": {
   "display_name": "Python 3 (ipykernel)",
   "language": "python",
   "name": "python3"
  },
  "language_info": {
   "codemirror_mode": {
    "name": "ipython",
    "version": 3
   },
   "file_extension": ".py",
   "mimetype": "text/x-python",
   "name": "python",
   "nbconvert_exporter": "python",
   "pygments_lexer": "ipython3",
   "version": "3.11.4"
  }
 },
 "nbformat": 4,
 "nbformat_minor": 5
}
